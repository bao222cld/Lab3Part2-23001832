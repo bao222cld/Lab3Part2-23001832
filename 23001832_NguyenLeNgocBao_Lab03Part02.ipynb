{
  "nbformat": 4,
  "nbformat_minor": 0,
  "metadata": {
    "colab": {
      "provenance": []
    },
    "kernelspec": {
      "name": "python3",
      "display_name": "Python 3"
    },
    "language_info": {
      "name": "python"
    }
  },
  "cells": [
    {
      "cell_type": "code",
      "execution_count": null,
      "metadata": {
        "colab": {
          "base_uri": "https://localhost:8080/"
        },
        "id": "Lm0BXdQGq_Av",
        "outputId": "04d128d7-bb58-4a24-bfa5-6c150d3e0580"
      },
      "outputs": [
        {
          "output_type": "stream",
          "name": "stdout",
          "text": [
            "Collecting git+https://github.com/RaRe-Technologies/gensim\n",
            "  Cloning https://github.com/RaRe-Technologies/gensim to /tmp/pip-req-build-0zv67umb\n",
            "  Running command git clone --filter=blob:none --quiet https://github.com/RaRe-Technologies/gensim /tmp/pip-req-build-0zv67umb\n",
            "  Resolved https://github.com/RaRe-Technologies/gensim to commit 37f90ec121eb7cd401448a947e80953e0c53ccdc\n",
            "  Installing build dependencies ... \u001b[?25l\u001b[?25hdone\n",
            "  Getting requirements to build wheel ... \u001b[?25l\u001b[?25hdone\n",
            "  Preparing metadata (pyproject.toml) ... \u001b[?25l\u001b[?25hdone\n",
            "Requirement already satisfied: numpy>=1.18.5 in /usr/local/lib/python3.12/dist-packages (from gensim==4.4.0) (1.26.4)\n",
            "Requirement already satisfied: scipy>=1.7.0 in /usr/local/lib/python3.12/dist-packages (from gensim==4.4.0) (1.13.1)\n",
            "Requirement already satisfied: smart_open>=1.8.1 in /usr/local/lib/python3.12/dist-packages (from gensim==4.4.0) (7.3.1)\n",
            "Requirement already satisfied: wrapt in /usr/local/lib/python3.12/dist-packages (from smart_open>=1.8.1->gensim==4.4.0) (1.17.3)\n",
            "Building wheels for collected packages: gensim\n",
            "  Building wheel for gensim (pyproject.toml) ... \u001b[?25l\u001b[?25hdone\n",
            "  Created wheel for gensim: filename=gensim-4.4.0-cp312-cp312-linux_x86_64.whl size=27080608 sha256=c15d9298fdca3109d22146665f434e3fa4efd6c1fc79e0e9beb3b7fe5b0bf03f\n",
            "  Stored in directory: /tmp/pip-ephem-wheel-cache-cre9ncdy/wheels/77/a7/a3/cf0bad57a872edb85bb0fe77d813d6b4b9f957a597a914587b\n",
            "Successfully built gensim\n",
            "Installing collected packages: gensim\n",
            "  Attempting uninstall: gensim\n",
            "    Found existing installation: gensim 4.3.3\n",
            "    Uninstalling gensim-4.3.3:\n",
            "      Successfully uninstalled gensim-4.3.3\n",
            "Successfully installed gensim-4.4.0\n"
          ]
        }
      ],
      "source": [
        "!pip install git+https://github.com/RaRe-Technologies/gensim\n"
      ]
    },
    {
      "cell_type": "code",
      "source": [
        "import gensim\n",
        "print(\"Gensim:\", gensim.__version__)\n"
      ],
      "metadata": {
        "colab": {
          "base_uri": "https://localhost:8080/"
        },
        "id": "8wRZM-lzsF-t",
        "outputId": "f41a24af-0b60-48bf-ff29-4f841fdd82d9"
      },
      "execution_count": null,
      "outputs": [
        {
          "output_type": "stream",
          "name": "stdout",
          "text": [
            "Gensim: 4.4.0\n"
          ]
        }
      ]
    },
    {
      "cell_type": "code",
      "source": [
        "!pip install umap-learn matplotlib scikit-learn plotly\n"
      ],
      "metadata": {
        "colab": {
          "base_uri": "https://localhost:8080/"
        },
        "id": "8iWRTzc5sxIM",
        "outputId": "f76062dc-a5d4-4b48-b4cf-248650421553"
      },
      "execution_count": null,
      "outputs": [
        {
          "output_type": "stream",
          "name": "stdout",
          "text": [
            "Requirement already satisfied: umap-learn in /usr/local/lib/python3.12/dist-packages (0.5.9.post2)\n",
            "Requirement already satisfied: matplotlib in /usr/local/lib/python3.12/dist-packages (3.10.0)\n",
            "Requirement already satisfied: scikit-learn in /usr/local/lib/python3.12/dist-packages (1.6.1)\n",
            "Requirement already satisfied: plotly in /usr/local/lib/python3.12/dist-packages (5.24.1)\n",
            "Requirement already satisfied: numpy>=1.23 in /usr/local/lib/python3.12/dist-packages (from umap-learn) (1.26.4)\n",
            "Requirement already satisfied: scipy>=1.3.1 in /usr/local/lib/python3.12/dist-packages (from umap-learn) (1.13.1)\n",
            "Requirement already satisfied: numba>=0.51.2 in /usr/local/lib/python3.12/dist-packages (from umap-learn) (0.60.0)\n",
            "Requirement already satisfied: pynndescent>=0.5 in /usr/local/lib/python3.12/dist-packages (from umap-learn) (0.5.13)\n",
            "Requirement already satisfied: tqdm in /usr/local/lib/python3.12/dist-packages (from umap-learn) (4.67.1)\n",
            "Requirement already satisfied: contourpy>=1.0.1 in /usr/local/lib/python3.12/dist-packages (from matplotlib) (1.3.3)\n",
            "Requirement already satisfied: cycler>=0.10 in /usr/local/lib/python3.12/dist-packages (from matplotlib) (0.12.1)\n",
            "Requirement already satisfied: fonttools>=4.22.0 in /usr/local/lib/python3.12/dist-packages (from matplotlib) (4.60.1)\n",
            "Requirement already satisfied: kiwisolver>=1.3.1 in /usr/local/lib/python3.12/dist-packages (from matplotlib) (1.4.9)\n",
            "Requirement already satisfied: packaging>=20.0 in /usr/local/lib/python3.12/dist-packages (from matplotlib) (25.0)\n",
            "Requirement already satisfied: pillow>=8 in /usr/local/lib/python3.12/dist-packages (from matplotlib) (11.3.0)\n",
            "Requirement already satisfied: pyparsing>=2.3.1 in /usr/local/lib/python3.12/dist-packages (from matplotlib) (3.2.5)\n",
            "Requirement already satisfied: python-dateutil>=2.7 in /usr/local/lib/python3.12/dist-packages (from matplotlib) (2.9.0.post0)\n",
            "Requirement already satisfied: joblib>=1.2.0 in /usr/local/lib/python3.12/dist-packages (from scikit-learn) (1.5.2)\n",
            "Requirement already satisfied: threadpoolctl>=3.1.0 in /usr/local/lib/python3.12/dist-packages (from scikit-learn) (3.6.0)\n",
            "Requirement already satisfied: tenacity>=6.2.0 in /usr/local/lib/python3.12/dist-packages (from plotly) (8.5.0)\n",
            "Requirement already satisfied: llvmlite<0.44,>=0.43.0dev0 in /usr/local/lib/python3.12/dist-packages (from numba>=0.51.2->umap-learn) (0.43.0)\n",
            "Requirement already satisfied: six>=1.5 in /usr/local/lib/python3.12/dist-packages (from python-dateutil>=2.7->matplotlib) (1.17.0)\n"
          ]
        }
      ]
    },
    {
      "cell_type": "code",
      "source": [
        "import random\n",
        "import numpy as np\n",
        "import matplotlib.pyplot as plt\n",
        "from sklearn.decomposition import PCA\n",
        "from sklearn.manifold import TSNE\n",
        "import umap\n",
        "import gensim\n",
        "import gensim.downloader as api\n",
        "from gensim.models import Word2Vec, FastText\n",
        "from sklearn.metrics.pairwise import cosine_similarity\n",
        "import plotly.express as px\n",
        "\n",
        "%matplotlib inline\n",
        "plt.rcParams['figure.figsize'] = (10,7)\n",
        "\n",
        "print(\"Gensim:\", gensim.__version__)\n"
      ],
      "metadata": {
        "colab": {
          "base_uri": "https://localhost:8080/"
        },
        "id": "dVT0NJPps0IN",
        "outputId": "a0f032a8-5b7e-4b2f-b8bd-4f1d9ae35155"
      },
      "execution_count": null,
      "outputs": [
        {
          "output_type": "stream",
          "name": "stdout",
          "text": [
            "Gensim: 4.4.0\n"
          ]
        }
      ]
    },
    {
      "cell_type": "code",
      "source": [
        "from itertools import islice\n",
        "\n",
        "# Tải corpus text8 (generator)\n",
        "corpus = api.load(\"text8\")\n",
        "\n",
        "# Lấy 50k câu đầu tiên để huấn luyện nhanh\n",
        "sentences = list(islice(corpus, 50000))\n",
        "print(\"Số câu dùng để huấn luyện:\", len(sentences))\n"
      ],
      "metadata": {
        "colab": {
          "base_uri": "https://localhost:8080/"
        },
        "id": "5XIlaD9UtOfN",
        "outputId": "df93dfe8-be25-4800-d6d8-a838b6a1c3c2"
      },
      "execution_count": null,
      "outputs": [
        {
          "output_type": "stream",
          "name": "stdout",
          "text": [
            "[==================================================] 100.0% 31.6/31.6MB downloaded\n",
            "Số câu dùng để huấn luyện: 1701\n"
          ]
        }
      ]
    },
    {
      "cell_type": "code",
      "source": [
        "# Tải GloVe pretrained\n",
        "glove = api.load(\"glove-wiki-gigaword-100\")\n",
        "print(\"GloVe vocab size:\", len(glove.key_to_index))"
      ],
      "metadata": {
        "colab": {
          "base_uri": "https://localhost:8080/"
        },
        "id": "_xuYTaVdtd_8",
        "outputId": "cdfa12b5-f389-4166-8450-132007f84366"
      },
      "execution_count": null,
      "outputs": [
        {
          "output_type": "stream",
          "name": "stdout",
          "text": [
            "[==================================================] 100.0% 128.1/128.1MB downloaded\n",
            "GloVe vocab size: 400000\n"
          ]
        }
      ]
    },
    {
      "cell_type": "code",
      "source": [
        "# Giảm dữ liệu xuống 10k câu\n",
        "from itertools import islice\n",
        "sentences_small = list(islice(api.load(\"text8\"), 10000))\n",
        "\n",
        "# Huấn luyện Word2Vec nhanh\n",
        "w2v_model = Word2Vec(sentences=sentences_small, vector_size=50, window=5, min_count=5, sg=1, epochs=3)\n",
        "print(\"Word2Vec vocab size:\", len(w2v_model.wv.index_to_key))\n",
        "\n",
        "# Huấn luyện FastText nhanh\n",
        "ft_model = FastText(sentences=sentences_small, vector_size=50, window=5, min_count=5, epochs=3)\n",
        "print(\"FastText vocab size:\", len(ft_model.wv.index_to_key))\n"
      ],
      "metadata": {
        "colab": {
          "base_uri": "https://localhost:8080/",
          "height": 356
        },
        "id": "oNATxX_3utf1",
        "outputId": "edeee023-f305-43ef-8a2e-c1de02c71521"
      },
      "execution_count": null,
      "outputs": [
        {
          "output_type": "stream",
          "name": "stdout",
          "text": [
            "Word2Vec vocab size: 71290\n"
          ]
        },
        {
          "output_type": "error",
          "ename": "KeyboardInterrupt",
          "evalue": "",
          "traceback": [
            "\u001b[0;31m---------------------------------------------------------------------------\u001b[0m",
            "\u001b[0;31mKeyboardInterrupt\u001b[0m                         Traceback (most recent call last)",
            "\u001b[0;32m/tmp/ipython-input-65606408.py\u001b[0m in \u001b[0;36m<cell line: 0>\u001b[0;34m()\u001b[0m\n\u001b[1;32m      8\u001b[0m \u001b[0;34m\u001b[0m\u001b[0m\n\u001b[1;32m      9\u001b[0m \u001b[0;31m# Huấn luyện FastText nhanh\u001b[0m\u001b[0;34m\u001b[0m\u001b[0;34m\u001b[0m\u001b[0m\n\u001b[0;32m---> 10\u001b[0;31m \u001b[0mft_model\u001b[0m \u001b[0;34m=\u001b[0m \u001b[0mFastText\u001b[0m\u001b[0;34m(\u001b[0m\u001b[0msentences\u001b[0m\u001b[0;34m=\u001b[0m\u001b[0msentences_small\u001b[0m\u001b[0;34m,\u001b[0m \u001b[0mvector_size\u001b[0m\u001b[0;34m=\u001b[0m\u001b[0;36m50\u001b[0m\u001b[0;34m,\u001b[0m \u001b[0mwindow\u001b[0m\u001b[0;34m=\u001b[0m\u001b[0;36m5\u001b[0m\u001b[0;34m,\u001b[0m \u001b[0mmin_count\u001b[0m\u001b[0;34m=\u001b[0m\u001b[0;36m5\u001b[0m\u001b[0;34m,\u001b[0m \u001b[0mepochs\u001b[0m\u001b[0;34m=\u001b[0m\u001b[0;36m3\u001b[0m\u001b[0;34m)\u001b[0m\u001b[0;34m\u001b[0m\u001b[0;34m\u001b[0m\u001b[0m\n\u001b[0m\u001b[1;32m     11\u001b[0m \u001b[0mprint\u001b[0m\u001b[0;34m(\u001b[0m\u001b[0;34m\"FastText vocab size:\"\u001b[0m\u001b[0;34m,\u001b[0m \u001b[0mlen\u001b[0m\u001b[0;34m(\u001b[0m\u001b[0mft_model\u001b[0m\u001b[0;34m.\u001b[0m\u001b[0mwv\u001b[0m\u001b[0;34m.\u001b[0m\u001b[0mindex_to_key\u001b[0m\u001b[0;34m)\u001b[0m\u001b[0;34m)\u001b[0m\u001b[0;34m\u001b[0m\u001b[0;34m\u001b[0m\u001b[0m\n",
            "\u001b[0;32m/usr/local/lib/python3.12/dist-packages/gensim/models/fasttext.py\u001b[0m in \u001b[0;36m__init__\u001b[0;34m(self, sentences, corpus_file, sg, hs, vector_size, alpha, window, min_count, max_vocab_size, word_ngrams, sample, seed, workers, min_alpha, negative, ns_exponent, cbow_mean, hashfxn, epochs, null_word, min_n, max_n, sorted_vocab, bucket, trim_rule, batch_words, callbacks, max_final_vocab, shrink_windows)\u001b[0m\n\u001b[1;32m    433\u001b[0m         \u001b[0mself\u001b[0m\u001b[0;34m.\u001b[0m\u001b[0mwv\u001b[0m\u001b[0;34m.\u001b[0m\u001b[0mvectors_ngrams_lockf\u001b[0m \u001b[0;34m=\u001b[0m \u001b[0mones\u001b[0m\u001b[0;34m(\u001b[0m\u001b[0;36m1\u001b[0m\u001b[0;34m,\u001b[0m \u001b[0mdtype\u001b[0m\u001b[0;34m=\u001b[0m\u001b[0mREAL\u001b[0m\u001b[0;34m)\u001b[0m\u001b[0;34m\u001b[0m\u001b[0;34m\u001b[0m\u001b[0m\n\u001b[1;32m    434\u001b[0m \u001b[0;34m\u001b[0m\u001b[0m\n\u001b[0;32m--> 435\u001b[0;31m         super(FastText, self).__init__(\n\u001b[0m\u001b[1;32m    436\u001b[0m             \u001b[0msentences\u001b[0m\u001b[0;34m=\u001b[0m\u001b[0msentences\u001b[0m\u001b[0;34m,\u001b[0m \u001b[0mcorpus_file\u001b[0m\u001b[0;34m=\u001b[0m\u001b[0mcorpus_file\u001b[0m\u001b[0;34m,\u001b[0m \u001b[0mworkers\u001b[0m\u001b[0;34m=\u001b[0m\u001b[0mworkers\u001b[0m\u001b[0;34m,\u001b[0m \u001b[0mvector_size\u001b[0m\u001b[0;34m=\u001b[0m\u001b[0mvector_size\u001b[0m\u001b[0;34m,\u001b[0m \u001b[0mepochs\u001b[0m\u001b[0;34m=\u001b[0m\u001b[0mepochs\u001b[0m\u001b[0;34m,\u001b[0m\u001b[0;34m\u001b[0m\u001b[0;34m\u001b[0m\u001b[0m\n\u001b[1;32m    437\u001b[0m             \u001b[0mcallbacks\u001b[0m\u001b[0;34m=\u001b[0m\u001b[0mcallbacks\u001b[0m\u001b[0;34m,\u001b[0m \u001b[0mbatch_words\u001b[0m\u001b[0;34m=\u001b[0m\u001b[0mbatch_words\u001b[0m\u001b[0;34m,\u001b[0m \u001b[0mtrim_rule\u001b[0m\u001b[0;34m=\u001b[0m\u001b[0mtrim_rule\u001b[0m\u001b[0;34m,\u001b[0m \u001b[0msg\u001b[0m\u001b[0;34m=\u001b[0m\u001b[0msg\u001b[0m\u001b[0;34m,\u001b[0m \u001b[0malpha\u001b[0m\u001b[0;34m=\u001b[0m\u001b[0malpha\u001b[0m\u001b[0;34m,\u001b[0m \u001b[0mwindow\u001b[0m\u001b[0;34m=\u001b[0m\u001b[0mwindow\u001b[0m\u001b[0;34m,\u001b[0m\u001b[0;34m\u001b[0m\u001b[0;34m\u001b[0m\u001b[0m\n",
            "\u001b[0;32m/usr/local/lib/python3.12/dist-packages/gensim/models/word2vec.py\u001b[0m in \u001b[0;36m__init__\u001b[0;34m(self, sentences, corpus_file, vector_size, alpha, window, min_count, max_vocab_size, sample, seed, workers, min_alpha, sg, hs, negative, ns_exponent, cbow_mean, hashfxn, epochs, null_word, trim_rule, sorted_vocab, batch_words, compute_loss, callbacks, comment, max_final_vocab, shrink_windows)\u001b[0m\n\u001b[1;32m    428\u001b[0m             \u001b[0mself\u001b[0m\u001b[0;34m.\u001b[0m\u001b[0m_check_corpus_sanity\u001b[0m\u001b[0;34m(\u001b[0m\u001b[0mcorpus_iterable\u001b[0m\u001b[0;34m=\u001b[0m\u001b[0mcorpus_iterable\u001b[0m\u001b[0;34m,\u001b[0m \u001b[0mcorpus_file\u001b[0m\u001b[0;34m=\u001b[0m\u001b[0mcorpus_file\u001b[0m\u001b[0;34m,\u001b[0m \u001b[0mpasses\u001b[0m\u001b[0;34m=\u001b[0m\u001b[0;34m(\u001b[0m\u001b[0mepochs\u001b[0m \u001b[0;34m+\u001b[0m \u001b[0;36m1\u001b[0m\u001b[0;34m)\u001b[0m\u001b[0;34m)\u001b[0m\u001b[0;34m\u001b[0m\u001b[0;34m\u001b[0m\u001b[0m\n\u001b[1;32m    429\u001b[0m             \u001b[0mself\u001b[0m\u001b[0;34m.\u001b[0m\u001b[0mbuild_vocab\u001b[0m\u001b[0;34m(\u001b[0m\u001b[0mcorpus_iterable\u001b[0m\u001b[0;34m=\u001b[0m\u001b[0mcorpus_iterable\u001b[0m\u001b[0;34m,\u001b[0m \u001b[0mcorpus_file\u001b[0m\u001b[0;34m=\u001b[0m\u001b[0mcorpus_file\u001b[0m\u001b[0;34m,\u001b[0m \u001b[0mtrim_rule\u001b[0m\u001b[0;34m=\u001b[0m\u001b[0mtrim_rule\u001b[0m\u001b[0;34m)\u001b[0m\u001b[0;34m\u001b[0m\u001b[0;34m\u001b[0m\u001b[0m\n\u001b[0;32m--> 430\u001b[0;31m             self.train(\n\u001b[0m\u001b[1;32m    431\u001b[0m                 \u001b[0mcorpus_iterable\u001b[0m\u001b[0;34m=\u001b[0m\u001b[0mcorpus_iterable\u001b[0m\u001b[0;34m,\u001b[0m \u001b[0mcorpus_file\u001b[0m\u001b[0;34m=\u001b[0m\u001b[0mcorpus_file\u001b[0m\u001b[0;34m,\u001b[0m \u001b[0mtotal_examples\u001b[0m\u001b[0;34m=\u001b[0m\u001b[0mself\u001b[0m\u001b[0;34m.\u001b[0m\u001b[0mcorpus_count\u001b[0m\u001b[0;34m,\u001b[0m\u001b[0;34m\u001b[0m\u001b[0;34m\u001b[0m\u001b[0m\n\u001b[1;32m    432\u001b[0m                 \u001b[0mtotal_words\u001b[0m\u001b[0;34m=\u001b[0m\u001b[0mself\u001b[0m\u001b[0;34m.\u001b[0m\u001b[0mcorpus_total_words\u001b[0m\u001b[0;34m,\u001b[0m \u001b[0mepochs\u001b[0m\u001b[0;34m=\u001b[0m\u001b[0mself\u001b[0m\u001b[0;34m.\u001b[0m\u001b[0mepochs\u001b[0m\u001b[0;34m,\u001b[0m \u001b[0mstart_alpha\u001b[0m\u001b[0;34m=\u001b[0m\u001b[0mself\u001b[0m\u001b[0;34m.\u001b[0m\u001b[0malpha\u001b[0m\u001b[0;34m,\u001b[0m\u001b[0;34m\u001b[0m\u001b[0;34m\u001b[0m\u001b[0m\n",
            "\u001b[0;32m/usr/local/lib/python3.12/dist-packages/gensim/models/word2vec.py\u001b[0m in \u001b[0;36mtrain\u001b[0;34m(self, corpus_iterable, corpus_file, total_examples, total_words, epochs, start_alpha, end_alpha, word_count, queue_factor, report_delay, compute_loss, callbacks, **kwargs)\u001b[0m\n\u001b[1;32m   1071\u001b[0m \u001b[0;34m\u001b[0m\u001b[0m\n\u001b[1;32m   1072\u001b[0m             \u001b[0;32mif\u001b[0m \u001b[0mcorpus_iterable\u001b[0m \u001b[0;32mis\u001b[0m \u001b[0;32mnot\u001b[0m \u001b[0;32mNone\u001b[0m\u001b[0;34m:\u001b[0m\u001b[0;34m\u001b[0m\u001b[0;34m\u001b[0m\u001b[0m\n\u001b[0;32m-> 1073\u001b[0;31m                 trained_word_count_epoch, raw_word_count_epoch, job_tally_epoch = self._train_epoch(\n\u001b[0m\u001b[1;32m   1074\u001b[0m                     \u001b[0mcorpus_iterable\u001b[0m\u001b[0;34m,\u001b[0m \u001b[0mcur_epoch\u001b[0m\u001b[0;34m=\u001b[0m\u001b[0mcur_epoch\u001b[0m\u001b[0;34m,\u001b[0m \u001b[0mtotal_examples\u001b[0m\u001b[0;34m=\u001b[0m\u001b[0mtotal_examples\u001b[0m\u001b[0;34m,\u001b[0m\u001b[0;34m\u001b[0m\u001b[0;34m\u001b[0m\u001b[0m\n\u001b[1;32m   1075\u001b[0m                     \u001b[0mtotal_words\u001b[0m\u001b[0;34m=\u001b[0m\u001b[0mtotal_words\u001b[0m\u001b[0;34m,\u001b[0m \u001b[0mqueue_factor\u001b[0m\u001b[0;34m=\u001b[0m\u001b[0mqueue_factor\u001b[0m\u001b[0;34m,\u001b[0m \u001b[0mreport_delay\u001b[0m\u001b[0;34m=\u001b[0m\u001b[0mreport_delay\u001b[0m\u001b[0;34m,\u001b[0m\u001b[0;34m\u001b[0m\u001b[0;34m\u001b[0m\u001b[0m\n",
            "\u001b[0;32m/usr/local/lib/python3.12/dist-packages/gensim/models/word2vec.py\u001b[0m in \u001b[0;36m_train_epoch\u001b[0;34m(self, data_iterable, cur_epoch, total_examples, total_words, queue_factor, report_delay, callbacks)\u001b[0m\n\u001b[1;32m   1432\u001b[0m             \u001b[0mthread\u001b[0m\u001b[0;34m.\u001b[0m\u001b[0mstart\u001b[0m\u001b[0;34m(\u001b[0m\u001b[0;34m)\u001b[0m\u001b[0;34m\u001b[0m\u001b[0;34m\u001b[0m\u001b[0m\n\u001b[1;32m   1433\u001b[0m \u001b[0;34m\u001b[0m\u001b[0m\n\u001b[0;32m-> 1434\u001b[0;31m         trained_word_count, raw_word_count, job_tally = self._log_epoch_progress(\n\u001b[0m\u001b[1;32m   1435\u001b[0m             \u001b[0mprogress_queue\u001b[0m\u001b[0;34m,\u001b[0m \u001b[0mjob_queue\u001b[0m\u001b[0;34m,\u001b[0m \u001b[0mcur_epoch\u001b[0m\u001b[0;34m=\u001b[0m\u001b[0mcur_epoch\u001b[0m\u001b[0;34m,\u001b[0m \u001b[0mtotal_examples\u001b[0m\u001b[0;34m=\u001b[0m\u001b[0mtotal_examples\u001b[0m\u001b[0;34m,\u001b[0m\u001b[0;34m\u001b[0m\u001b[0;34m\u001b[0m\u001b[0m\n\u001b[1;32m   1436\u001b[0m             \u001b[0mtotal_words\u001b[0m\u001b[0;34m=\u001b[0m\u001b[0mtotal_words\u001b[0m\u001b[0;34m,\u001b[0m \u001b[0mreport_delay\u001b[0m\u001b[0;34m=\u001b[0m\u001b[0mreport_delay\u001b[0m\u001b[0;34m,\u001b[0m \u001b[0mis_corpus_file_mode\u001b[0m\u001b[0;34m=\u001b[0m\u001b[0;32mFalse\u001b[0m\u001b[0;34m,\u001b[0m\u001b[0;34m\u001b[0m\u001b[0;34m\u001b[0m\u001b[0m\n",
            "\u001b[0;32m/usr/local/lib/python3.12/dist-packages/gensim/models/word2vec.py\u001b[0m in \u001b[0;36m_log_epoch_progress\u001b[0;34m(self, progress_queue, job_queue, cur_epoch, total_examples, total_words, report_delay, is_corpus_file_mode)\u001b[0m\n\u001b[1;32m   1287\u001b[0m \u001b[0;34m\u001b[0m\u001b[0m\n\u001b[1;32m   1288\u001b[0m         \u001b[0;32mwhile\u001b[0m \u001b[0munfinished_worker_count\u001b[0m \u001b[0;34m>\u001b[0m \u001b[0;36m0\u001b[0m\u001b[0;34m:\u001b[0m\u001b[0;34m\u001b[0m\u001b[0;34m\u001b[0m\u001b[0m\n\u001b[0;32m-> 1289\u001b[0;31m             \u001b[0mreport\u001b[0m \u001b[0;34m=\u001b[0m \u001b[0mprogress_queue\u001b[0m\u001b[0;34m.\u001b[0m\u001b[0mget\u001b[0m\u001b[0;34m(\u001b[0m\u001b[0;34m)\u001b[0m  \u001b[0;31m# blocks if workers too slow\u001b[0m\u001b[0;34m\u001b[0m\u001b[0;34m\u001b[0m\u001b[0m\n\u001b[0m\u001b[1;32m   1290\u001b[0m             \u001b[0;32mif\u001b[0m \u001b[0mreport\u001b[0m \u001b[0;32mis\u001b[0m \u001b[0;32mNone\u001b[0m\u001b[0;34m:\u001b[0m  \u001b[0;31m# a thread reporting that it finished\u001b[0m\u001b[0;34m\u001b[0m\u001b[0;34m\u001b[0m\u001b[0m\n\u001b[1;32m   1291\u001b[0m                 \u001b[0munfinished_worker_count\u001b[0m \u001b[0;34m-=\u001b[0m \u001b[0;36m1\u001b[0m\u001b[0;34m\u001b[0m\u001b[0;34m\u001b[0m\u001b[0m\n",
            "\u001b[0;32m/usr/lib/python3.12/queue.py\u001b[0m in \u001b[0;36mget\u001b[0;34m(self, block, timeout)\u001b[0m\n\u001b[1;32m    169\u001b[0m             \u001b[0;32melif\u001b[0m \u001b[0mtimeout\u001b[0m \u001b[0;32mis\u001b[0m \u001b[0;32mNone\u001b[0m\u001b[0;34m:\u001b[0m\u001b[0;34m\u001b[0m\u001b[0;34m\u001b[0m\u001b[0m\n\u001b[1;32m    170\u001b[0m                 \u001b[0;32mwhile\u001b[0m \u001b[0;32mnot\u001b[0m \u001b[0mself\u001b[0m\u001b[0;34m.\u001b[0m\u001b[0m_qsize\u001b[0m\u001b[0;34m(\u001b[0m\u001b[0;34m)\u001b[0m\u001b[0;34m:\u001b[0m\u001b[0;34m\u001b[0m\u001b[0;34m\u001b[0m\u001b[0m\n\u001b[0;32m--> 171\u001b[0;31m                     \u001b[0mself\u001b[0m\u001b[0;34m.\u001b[0m\u001b[0mnot_empty\u001b[0m\u001b[0;34m.\u001b[0m\u001b[0mwait\u001b[0m\u001b[0;34m(\u001b[0m\u001b[0;34m)\u001b[0m\u001b[0;34m\u001b[0m\u001b[0;34m\u001b[0m\u001b[0m\n\u001b[0m\u001b[1;32m    172\u001b[0m             \u001b[0;32melif\u001b[0m \u001b[0mtimeout\u001b[0m \u001b[0;34m<\u001b[0m \u001b[0;36m0\u001b[0m\u001b[0;34m:\u001b[0m\u001b[0;34m\u001b[0m\u001b[0;34m\u001b[0m\u001b[0m\n\u001b[1;32m    173\u001b[0m                 \u001b[0;32mraise\u001b[0m \u001b[0mValueError\u001b[0m\u001b[0;34m(\u001b[0m\u001b[0;34m\"'timeout' must be a non-negative number\"\u001b[0m\u001b[0;34m)\u001b[0m\u001b[0;34m\u001b[0m\u001b[0;34m\u001b[0m\u001b[0m\n",
            "\u001b[0;32m/usr/lib/python3.12/threading.py\u001b[0m in \u001b[0;36mwait\u001b[0;34m(self, timeout)\u001b[0m\n\u001b[1;32m    353\u001b[0m         \u001b[0;32mtry\u001b[0m\u001b[0;34m:\u001b[0m    \u001b[0;31m# restore state no matter what (e.g., KeyboardInterrupt)\u001b[0m\u001b[0;34m\u001b[0m\u001b[0;34m\u001b[0m\u001b[0m\n\u001b[1;32m    354\u001b[0m             \u001b[0;32mif\u001b[0m \u001b[0mtimeout\u001b[0m \u001b[0;32mis\u001b[0m \u001b[0;32mNone\u001b[0m\u001b[0;34m:\u001b[0m\u001b[0;34m\u001b[0m\u001b[0;34m\u001b[0m\u001b[0m\n\u001b[0;32m--> 355\u001b[0;31m                 \u001b[0mwaiter\u001b[0m\u001b[0;34m.\u001b[0m\u001b[0macquire\u001b[0m\u001b[0;34m(\u001b[0m\u001b[0;34m)\u001b[0m\u001b[0;34m\u001b[0m\u001b[0;34m\u001b[0m\u001b[0m\n\u001b[0m\u001b[1;32m    356\u001b[0m                 \u001b[0mgotit\u001b[0m \u001b[0;34m=\u001b[0m \u001b[0;32mTrue\u001b[0m\u001b[0;34m\u001b[0m\u001b[0;34m\u001b[0m\u001b[0m\n\u001b[1;32m    357\u001b[0m             \u001b[0;32melse\u001b[0m\u001b[0;34m:\u001b[0m\u001b[0;34m\u001b[0m\u001b[0;34m\u001b[0m\u001b[0m\n",
            "\u001b[0;31mKeyboardInterrupt\u001b[0m: "
          ]
        }
      ]
    },
    {
      "cell_type": "code",
      "source": [
        "from itertools import islice\n",
        "\n",
        "# Lấy ít dữ liệu hơn cho nhanh\n",
        "small_sentences = list(islice(api.load(\"text8\"), 2000))  # chỉ 2000 câu\n",
        "\n",
        "# FastText demo nhẹ\n",
        "ft_model = FastText(sentences=small_sentences, vector_size=30, window=3, min_count=2, epochs=2)\n",
        "print(\"FastText vocab size:\", len(ft_model.wv.index_to_key))\n"
      ],
      "metadata": {
        "colab": {
          "base_uri": "https://localhost:8080/"
        },
        "id": "MXwtjHMTxOKG",
        "outputId": "18e4bf10-ab53-45ca-ac24-e4260fb6601f"
      },
      "execution_count": null,
      "outputs": [
        {
          "output_type": "stream",
          "name": "stdout",
          "text": [
            "FastText vocab size: 135335\n"
          ]
        }
      ]
    },
    {
      "cell_type": "code",
      "source": [
        "words_to_plot = [\n",
        "    \"king\",\"queen\",\"man\",\"woman\",\"prince\",\"princess\",\n",
        "    \"apple\",\"orange\",\"banana\",\"fruit\",\n",
        "    \"paris\",\"france\",\"london\",\"england\",\"germany\",\n",
        "    \"cat\",\"dog\",\"horse\",\"cow\",\"pig\",\n",
        "    \"run\",\"running\",\"walk\",\"swim\",\"eat\"\n",
        "]\n",
        "\n",
        "def filter_vocab(word_list, model):\n",
        "    return [w for w in word_list if w in model.wv.index_to_key]\n",
        "\n",
        "w_w2v = filter_vocab(words_to_plot, w2v_model)\n",
        "w_ft = filter_vocab(words_to_plot, ft_model)\n",
        "w_glove = [w for w in words_to_plot if w in glove.key_to_index]\n",
        "\n",
        "print(\"Word2Vec words:\", w_w2v)\n",
        "print(\"FastText words:\", w_ft)\n",
        "print(\"GloVe words:\", w_glove)\n"
      ],
      "metadata": {
        "colab": {
          "base_uri": "https://localhost:8080/"
        },
        "id": "idFUf9Niygxt",
        "outputId": "11180e8c-c298-4349-d62c-ca1bbb381570"
      },
      "execution_count": null,
      "outputs": [
        {
          "output_type": "stream",
          "name": "stdout",
          "text": [
            "Word2Vec words: ['king', 'queen', 'man', 'woman', 'prince', 'princess', 'apple', 'orange', 'banana', 'fruit', 'paris', 'france', 'london', 'england', 'germany', 'cat', 'dog', 'horse', 'cow', 'pig', 'run', 'running', 'walk', 'swim', 'eat']\n",
            "FastText words: ['king', 'queen', 'man', 'woman', 'prince', 'princess', 'apple', 'orange', 'banana', 'fruit', 'paris', 'france', 'london', 'england', 'germany', 'cat', 'dog', 'horse', 'cow', 'pig', 'run', 'running', 'walk', 'swim', 'eat']\n",
            "GloVe words: ['king', 'queen', 'man', 'woman', 'prince', 'princess', 'apple', 'orange', 'banana', 'fruit', 'paris', 'france', 'london', 'england', 'germany', 'cat', 'dog', 'horse', 'cow', 'pig', 'run', 'running', 'walk', 'swim', 'eat']\n"
          ]
        }
      ]
    },
    {
      "cell_type": "code",
      "source": [
        "import plotly.express as px\n",
        "from sklearn.decomposition import PCA\n",
        "from sklearn.manifold import TSNE\n",
        "import umap\n",
        "\n",
        "def get_vectors(model, words):\n",
        "    return np.array([model.wv[w] for w in words])\n",
        "\n",
        "def plot_2d(points, labels, title=\"2D projection\"):\n",
        "    plt.figure(figsize=(10,8))\n",
        "    plt.scatter(points[:,0], points[:,1])\n",
        "    for i, txt in enumerate(labels):\n",
        "        plt.annotate(txt, (points[i,0], points[i,1]))\n",
        "    plt.title(title)\n",
        "    plt.grid(True)\n",
        "    plt.show()\n",
        "\n",
        "def plot_3d(points, labels, title=\"3D projection\"):\n",
        "    fig = px.scatter_3d(x=points[:,0], y=points[:,1], z=points[:,2], text=labels, title=title)\n",
        "    fig.update_traces(marker=dict(size=4))\n",
        "    fig.show()\n",
        "\n",
        "def reduce_and_plot_2d(model, words, method=\"pca\"):\n",
        "    vecs = get_vectors(model, words)\n",
        "    if method == \"pca\":\n",
        "        pts = PCA(n_components=2).fit_transform(vecs)\n",
        "        plot_2d(pts, words, f\"{type(model).__name__} - PCA 2D\")\n",
        "    elif method == \"tsne\":\n",
        "        # chọn perplexity nhỏ hơn số từ\n",
        "        perplexity = min(10, len(words)-1)\n",
        "        pts = TSNE(n_components=2, random_state=42, init=\"pca\", perplexity=perplexity).fit_transform(vecs)\n",
        "        plot_2d(pts, words, f\"{type(model).__name__} - t-SNE 2D\")\n",
        "    elif method == \"umap\":\n",
        "        pts = umap.UMAP(n_components=2, random_state=42).fit_transform(vecs)\n",
        "        plot_2d(pts, words, f\"{type(model).__name__} - UMAP 2D\")\n",
        "def reduce_and_plot_3d(model, words, method=\"umap\"):\n",
        "    vecs = get_vectors(model, words)\n",
        "    if method == \"umap\":\n",
        "        pts = umap.UMAP(n_components=3, random_state=42).fit_transform(vecs)\n",
        "    else:\n",
        "        pts = PCA(n_components=3).fit_transform(vecs)\n",
        "    plot_3d(pts, words, f\"{type(model).__name__} - {method.upper()} 3D\")\n"
      ],
      "metadata": {
        "id": "s-qNrVRjyigc"
      },
      "execution_count": null,
      "outputs": []
    },
    {
      "cell_type": "code",
      "source": [
        "# Word2Vec - PCA 2D\n",
        "reduce_and_plot_2d(w2v_model, w_w2v, \"pca\")\n",
        "\n"
      ],
      "metadata": {
        "colab": {
          "base_uri": "https://localhost:8080/",
          "height": 699
        },
        "id": "fmqtTldJykV2",
        "outputId": "1e040f2f-b7bf-4d63-c2ed-7e7c77026925"
      },
      "execution_count": null,
      "outputs": [
        {
          "output_type": "display_data",
          "data": {
            "text/plain": [
              "<Figure size 1000x800 with 1 Axes>"
            ],
            "image/png": "[encoded data removed]"
          },
          "metadata": {}
        }
      ]
    },
    {
      "cell_type": "code",
      "source": [
        "from sklearn.metrics.pairwise import cosine_similarity\n",
        "\n",
        "def top_k_similar(model, word, k=5):\n",
        "    try:\n",
        "        return model.wv.most_similar(word, topn=k)\n",
        "    except:\n",
        "        if word not in model.key_to_index:\n",
        "            return f\"'{word}' không có trong vocab\"\n",
        "        vec = model[word].reshape(1,-1)\n",
        "        all_words = list(model.key_to_index.keys())\n",
        "        all_vecs = np.array([model[w] for w in all_words])\n",
        "        sims = cosine_similarity(vec, all_vecs)[0]\n",
        "        idx = np.argsort(sims)[-k-1:-1][::-1]\n",
        "        return [(all_words[i], float(sims[i])) for i in idx]\n",
        "\n",
        "# Ví dụ\n",
        "print(\"Word2Vec:\", top_k_similar(w2v_model, \"king\"))\n",
        "print(\"FastText:\", top_k_similar(ft_model, \"king\"))\n",
        "print(\"GloVe:\", top_k_similar(glove, \"king\"))\n"
      ],
      "metadata": {
        "colab": {
          "base_uri": "https://localhost:8080/"
        },
        "id": "kM6RFhS1y6ad",
        "outputId": "2e4814a6-c5be-42e4-f647-003e6d387258"
      },
      "execution_count": null,
      "outputs": [
        {
          "output_type": "stream",
          "name": "stdout",
          "text": [
            "Word2Vec: [('queen', 0.874180257320404), ('pretender', 0.8625756502151489), ('valdemar', 0.8624395728111267), ('viii', 0.8571839332580566), ('haakon', 0.8447231650352478)]\n",
            "FastText: [('kingpin', 0.912495493888855), ('kingswear', 0.8882980346679688), ('kingasveitin', 0.8861202597618103), ('kingman', 0.8785750865936279), ('justine', 0.8768165707588196)]\n",
            "GloVe: [('prince', 0.7682329416275024), ('queen', 0.7507690191268921), ('son', 0.7020888924598694), ('brother', 0.6985775232315063), ('monarch', 0.6977890729904175)]\n"
          ]
        }
      ]
    },
    {
      "cell_type": "markdown",
      "source": [
        "# Nhận xét cá nhân\n",
        "- PCA chạy nhanh, nhưng cụm từ hơi lẫn; t-SNE và UMAP cho cụm rõ ràng hơn.\n",
        "- Word2Vec học được quan hệ ngữ nghĩa (king–queen, man–woman) khá rõ.\n",
        "- FastText có lợi thế với từ ngoài từ điển hoặc biến thể (thêm tiền tố/hậu tố).\n",
        "- GloVe pretrained cho kết quả tự nhiên và ý nghĩa hơn vì được huấn luyện trên tập dữ liệu lớn.\n",
        "- Từ đây có thể thấy: trong thực tế, để đạt chất lượng cao nên dùng mô hình pretrained; còn huấn luyện từ đầu chỉ phù hợp demo hoặc dữ liệu chuyên biệt.\n",
        "\n"
      ],
      "metadata": {
        "id": "1bOORhPTzGj9"
      }
    },
    {
      "cell_type": "markdown",
      "source": [
        "## Lab03 — Phần 2: Word Embeddings (WordEmbedder + Document embedding)\n",
        "\n",
        "Cell tiếp theo cài đặt thư viện cần thiết, sau đó định nghĩa lớp `WordEmbedder` với các phương thức:\n",
        "- `get_vector(word)`\n",
        "- `get_similarity(word1, word2)`\n",
        "- `get_most_similar(word, top_n=10)`\n",
        "- `embed_document(document)`\n",
        "\n",
        "Có thêm cell demo / test in ra các kết quả yêu cầu trong đề (vector của \"king\", similarity, most similar với \"computer\", embedding của câu mẫu).\n"
      ],
      "metadata": {
        "id": "N3mDN9k1K48m"
      }
    },
    {
      "cell_type": "code",
      "source": [
        "# WordEmbedder: load pretrained model, trả vector, similarity, most_similar, embed_document\n",
        "import re\n",
        "import numpy as np\n",
        "import gensim.downloader as api\n",
        "\n",
        "class WordEmbedder:\n",
        "    def __init__(self, model_name: str = \"glove-wiki-gigaword-50\"):\n",
        "        \"\"\"\n",
        "        Load model_name from gensim-data. Default: 'glove-wiki-gigaword-50'.\n",
        "        \"\"\"\n",
        "        print(f\"Loading model {model_name} (this may download ~65MB on first run)...\")\n",
        "        self.model = api.load(model_name)\n",
        "        # word vector dimension\n",
        "        try:\n",
        "            self.dim = self.model.vector_size\n",
        "        except AttributeError:\n",
        "            # fallback\n",
        "            self.dim = self.model[self.model.index_to_key[0]].shape[0]\n",
        "        print(f\"Loaded. Vector dim = {self.dim}\")\n",
        "\n",
        "    def simple_tokenize(self, text: str):\n",
        "        \"\"\"\n",
        "        Simple tokenizer: lowercase, keep alphanum, split on non-alphanum.\n",
        "        Replace this with Lab1 tokenizer if available.\n",
        "        \"\"\"\n",
        "        if not isinstance(text, str):\n",
        "            return []\n",
        "        text = text.lower()\n",
        "        tokens = re.findall(r\"[a-z0-9']+\", text)\n",
        "        return tokens\n",
        "\n",
        "    def get_vector(self, word: str):\n",
        "        \"\"\"\n",
        "        Return the vector for `word`. If OOV, return None (or you may return zero vector).\n",
        "        We'll return None to let caller decide; embed_document will ignore None.\n",
        "        \"\"\"\n",
        "        if word is None:\n",
        "            return None\n",
        "        w = word.lower()\n",
        "        if hasattr(self.model, \"key_to_index\"):\n",
        "            in_vocab = w in self.model.key_to_index\n",
        "        else:\n",
        "            in_vocab = w in self.model.index_to_key\n",
        "        if in_vocab:\n",
        "            return self.model[w]\n",
        "        else:\n",
        "            return None\n",
        "\n",
        "    def get_similarity(self, word1: str, word2: str):\n",
        "        \"\"\"\n",
        "        Cosine similarity between two words. If one is OOV, return None.\n",
        "        \"\"\"\n",
        "        v1 = self.get_vector(word1)\n",
        "        v2 = self.get_vector(word2)\n",
        "        if v1 is None or v2 is None:\n",
        "            return None\n",
        "        # safe cosine\n",
        "        num = np.dot(v1, v2)\n",
        "        denom = np.linalg.norm(v1) * np.linalg.norm(v2)\n",
        "        if denom == 0:\n",
        "            return 0.0\n",
        "        return float(num / denom)\n",
        "\n",
        "    def get_most_similar(self, word: str, top_n: int = 10):\n",
        "        \"\"\"\n",
        "        Use model's most_similar if available. If word OOV, return [].\n",
        "        \"\"\"\n",
        "        if word is None:\n",
        "            return []\n",
        "        w = word.lower()\n",
        "        try:\n",
        "            return self.model.most_similar(w, topn=top_n)\n",
        "        except Exception:\n",
        "            return []\n",
        "\n",
        "    def embed_document(self, document: str):\n",
        "        \"\"\"\n",
        "        Compute document embedding by averaging known word vectors.\n",
        "        If no known words -> return zero vector of correct dim.\n",
        "        \"\"\"\n",
        "        tokens = self.simple_tokenize(document)\n",
        "        vecs = []\n",
        "        for t in tokens:\n",
        "            v = self.get_vector(t)\n",
        "            if v is not None:\n",
        "                vecs.append(v)\n",
        "        if len(vecs) == 0:\n",
        "            return np.zeros(self.dim, dtype=float)\n",
        "        arr = np.vstack(vecs)\n",
        "        return np.mean(arr, axis=0)\n"
      ],
      "metadata": {
        "id": "zRl5IRvmLXV1"
      },
      "execution_count": null,
      "outputs": []
    },
    {
      "cell_type": "code",
      "source": [
        "# Demo: instantiate and run required checks\n",
        "embedder = WordEmbedder(\"glove-wiki-gigaword-50\")\n",
        "\n",
        "# 1) Vector for 'king'\n",
        "v_king = embedder.get_vector(\"king\")\n",
        "print(\"Vector for 'king' (first 8 dims):\", None if v_king is None else v_king[:8])\n",
        "\n",
        "# 2) Similarity king-queen and king-man\n",
        "sim_king_queen = embedder.get_similarity(\"king\", \"queen\")\n",
        "sim_king_man = embedder.get_similarity(\"king\", \"man\")\n",
        "print(f\"Similarity(king, queen): {sim_king_queen}\")\n",
        "print(f\"Similarity(king, man): {sim_king_man}\")\n",
        "\n",
        "# 3) 10 most similar to 'computer'\n",
        "most_sim_computer = embedder.get_most_similar(\"computer\", top_n=10)\n",
        "print(\"Top 10 most similar to 'computer':\")\n",
        "for w, s in most_sim_computer:\n",
        "    print(f\"  {w:20s} {s:.4f}\")\n",
        "\n",
        "# 4) Embed sentence \"The queen rules the country.\"\n",
        "doc = \"The queen rules the country.\"\n",
        "doc_vec = embedder.embed_document(doc)\n",
        "print(\"Document embedding for: 'The queen rules the country.'\")\n",
        "print(\"Vector (first 8 dims):\", doc_vec[:8])\n",
        "print(\"Vector norm:\", float(np.linalg.norm(doc_vec)))\n",
        "\n",
        "# Extra: what happens if OOV?\n",
        "print(\"OOV test: 'someunlikelywordxyz' ->\", embedder.get_vector(\"someunlikelywordxyz\"))\n"
      ],
      "metadata": {
        "colab": {
          "base_uri": "https://localhost:8080/"
        },
        "id": "g_iIwpyWQdLn",
        "outputId": "fcdbc523-d66f-4eea-8923-1fce98282ff2"
      },
      "execution_count": null,
      "outputs": [
        {
          "output_type": "stream",
          "name": "stdout",
          "text": [
            "Loading model glove-wiki-gigaword-50 (this may download ~65MB on first run)...\n",
            "[==================================================] 100.0% 66.0/66.0MB downloaded\n",
            "Loaded. Vector dim = 50\n",
            "Vector for 'king' (first 8 dims): [ 0.50451   0.68607  -0.59517  -0.022801  0.60046  -0.13498  -0.08813\n",
            "  0.47377 ]\n",
            "Similarity(king, queen): 0.7839043736457825\n",
            "Similarity(king, man): 0.530937671661377\n",
            "Top 10 most similar to 'computer':\n",
            "  computers            0.9165\n",
            "  software             0.8815\n",
            "  technology           0.8526\n",
            "  electronic           0.8126\n",
            "  internet             0.8060\n",
            "  computing            0.8026\n",
            "  devices              0.8016\n",
            "  digital              0.7992\n",
            "  applications         0.7913\n",
            "  pc                   0.7883\n",
            "Document embedding for: 'The queen rules the country.'\n",
            "Vector (first 8 dims): [ 0.02444201  0.378018   -0.638166    0.0128046   0.0524286   0.11954119\n",
            " -0.316518   -0.08776999]\n",
            "Vector norm: 4.237448215484619\n",
            "OOV test: 'someunlikelywordxyz' -> None\n"
          ]
        }
      ]
    },
    {
      "cell_type": "code",
      "source": [
        "\n",
        "import os\n",
        "os.makedirs(\"test\", exist_ok=True)\n",
        "test_code = r'''\n",
        "import sys, os\n",
        "project_root = os.path.abspath(os.path.join(os.path.dirname(__file__), '..'))\n",
        "src_path = os.path.join(project_root, \"src\")\n",
        "if src_path not in sys.path:\n",
        "    sys.path.insert(0, src_path)\n",
        "\n",
        "from representations.word_embedder import WordEmbedder\n",
        "import numpy as np\n",
        "\n",
        "def main():\n",
        "    e = WordEmbedder(\"glove-wiki-gigaword-50\")\n",
        "    v = e.get_vector(\"king\")\n",
        "    print(\"Vector for 'king' length:\", None if v is None else len(v))\n",
        "    print(\"Sim king-queen:\", e.get_similarity(\"king\", \"queen\"))\n",
        "    print(\"Sim king-man:\", e.get_similarity(\"king\", \"man\"))\n",
        "    print(\"Top 10 similar to 'computer':\", e.get_most_similar(\"computer\", 10))\n",
        "    print(\"Embed 'The queen rules the country.':\", e.embed_document(\"The queen rules the country.\").shape)\n",
        "\n",
        "if __name__ == '__main__':\n",
        "    main()\n",
        "'''\n",
        "with open(\"test/lab4_test.py\", \"w\", encoding=\"utf-8\") as f:\n",
        "    f.write(test_code)\n",
        "print(\"Wrote test/lab4_test.py (with sys.path fix for src/). Run: !python test/lab4_test.py\")\n"
      ],
      "metadata": {
        "colab": {
          "base_uri": "https://localhost:8080/"
        },
        "id": "Lp9R5bLHQs1Q",
        "outputId": "9356410b-0f69-452b-b1f1-af63242e38f8"
      },
      "execution_count": null,
      "outputs": [
        {
          "output_type": "stream",
          "name": "stdout",
          "text": [
            "Wrote test/lab4_test.py (with sys.path fix for src/). Run: !python test/lab4_test.py\n"
          ]
        }
      ]
    },
    {
      "cell_type": "code",
      "source": [
        "\n",
        "import os\n",
        "os.makedirs(\"src/representations\", exist_ok=True)\n",
        "wb_src = r'''\n",
        "# src/representations/word_embedder.py\n",
        "import re\n",
        "import numpy as np\n",
        "import gensim.downloader as api\n",
        "\n",
        "class WordEmbedder:\n",
        "    def __init__(self, model_name: str = \"glove-wiki-gigaword-50\"):\n",
        "        print(f\"Loading model {model_name} ...\")\n",
        "        self.model = api.load(model_name)\n",
        "        self.dim = self.model.vector_size\n",
        "\n",
        "    def simple_tokenize(self, text: str):\n",
        "        if not isinstance(text, str):\n",
        "            return []\n",
        "        text = text.lower()\n",
        "        tokens = re.findall(r\"[a-z0-9']+\", text)\n",
        "        return tokens\n",
        "\n",
        "    def get_vector(self, word: str):\n",
        "        if word is None:\n",
        "            return None\n",
        "        w = word.lower()\n",
        "        if hasattr(self.model, \"key_to_index\"):\n",
        "            in_vocab = w in self.model.key_to_index\n",
        "        else:\n",
        "            in_vocab = w in self.model.index_to_key\n",
        "        if in_vocab:\n",
        "            return self.model[w]\n",
        "        return None\n",
        "\n",
        "    def get_similarity(self, word1: str, word2: str):\n",
        "        v1 = self.get_vector(word1)\n",
        "        v2 = self.get_vector(word2)\n",
        "        if v1 is None or v2 is None:\n",
        "            return None\n",
        "        denom = (np.linalg.norm(v1) * np.linalg.norm(v2))\n",
        "        if denom == 0:\n",
        "            return 0.0\n",
        "        return float(np.dot(v1, v2) / denom)\n",
        "\n",
        "    def get_most_similar(self, word: str, top_n: int = 10):\n",
        "        w = (word or \"\").lower()\n",
        "        try:\n",
        "            return self.model.most_similar(w, topn=top_n)\n",
        "        except Exception:\n",
        "            return []\n",
        "\n",
        "    def embed_document(self, document: str):\n",
        "        tokens = self.simple_tokenize(document)\n",
        "        vecs = [self.get_vector(t) for t in tokens if self.get_vector(t) is not None]\n",
        "        if len(vecs) == 0:\n",
        "            return np.zeros(self.dim, dtype=float)\n",
        "        return np.mean(np.vstack(vecs), axis=0)\n",
        "'''\n",
        "with open(\"src/representations/word_embedder.py\", \"w\", encoding=\"utf-8\") as f:\n",
        "    f.write(wb_src)\n",
        "print(\"Wrote src/representations/word_embedder.py\")\n"
      ],
      "metadata": {
        "colab": {
          "base_uri": "https://localhost:8080/"
        },
        "id": "tIKLbPDRTOaw",
        "outputId": "aae24138-0eb7-4d09-a723-b4e69af3fcc4"
      },
      "execution_count": null,
      "outputs": [
        {
          "output_type": "stream",
          "name": "stdout",
          "text": [
            "Wrote src/representations/word_embedder.py\n"
          ]
        }
      ]
    },
    {
      "cell_type": "code",
      "source": [
        "\n",
        "from gensim.models import Word2Vec\n",
        "from gensim.test.utils import common_texts\n",
        "print(\"Training small Word2Vec on gensim.common_texts (demo only)...\")\n",
        "w2v_small = Word2Vec(sentences=common_texts, vector_size=50, window=3, min_count=1, epochs=10)\n",
        "print(\"Most similar to 'computer' (if present):\", w2v_small.wv.most_similar(\"computer\") if \"computer\" in w2v_small.wv else \"word 'computer' not in demo vocab\")\n"
      ],
      "metadata": {
        "colab": {
          "base_uri": "https://localhost:8080/"
        },
        "id": "ePGa-FZ4TZYq",
        "outputId": "774dc9c5-5f3e-4a21-f798-ab6cf2d8544d"
      },
      "execution_count": null,
      "outputs": [
        {
          "output_type": "stream",
          "name": "stdout",
          "text": [
            "Training small Word2Vec on gensim.common_texts (demo only)...\n",
            "Most similar to 'computer' (if present): [('eps', 0.22442302107810974), ('system', 0.0998455211520195), ('time', 0.089928537607193), ('human', 0.05837363377213478), ('graph', 0.0013571253512054682), ('response', -0.0013637307565659285), ('trees', -0.03727477788925171), ('minors', -0.06368818879127502), ('interface', -0.11219385266304016), ('user', -0.12240632623434067)]\n"
          ]
        }
      ]
    },
    {
      "cell_type": "markdown",
      "source": [
        "Bài lab giúp nắm rõ cơ chế hoạt động và khác biệt chính giữa Word2Vec, GloVe và fastText, đồng thời thực hành trực quan hóa bằng PCA/t-SNE/UMAP. Kết quả cho thấy mô hình pretrained (GloVe) bắt được quan hệ ngữ nghĩa rõ ràng hơn trong khi mô hình tự huấn luyện trên tập nhỏ kém chính xác; fastText thể hiện lợi thế với từ OOV. Phương pháp lấy trung bình vector cho embedding văn bản là baseline đơn giản nhưng hạn chế (mất ngữ cảnh); có thể cải thiện bằng TF-IDF weighting hoặc mô hình ngữ cảnh như BERT. Tổng quan: bài thực hành hữu ích, dễ mở rộng cho các bước nghiên cứu tiếp theo.\n"
      ],
      "metadata": {
        "id": "LWk-4Ul0VNYg"
      }
    }
  ]
}